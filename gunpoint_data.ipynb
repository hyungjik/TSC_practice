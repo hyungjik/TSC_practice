{
 "cells": [
  {
   "cell_type": "code",
   "execution_count": 2,
   "metadata": {},
   "outputs": [],
   "source": [
    "import pandas as pd\n",
    "import numpy as np\n",
    "\n",
    "# import matplotlib as mpl\n",
    "# import matplotlib.pyplot as plt\n",
    "# %matplotlib inline\n",
    "\n",
    "# # 한글폰트 사용시 그래프에서 마이너스 폰트 깨지는 문제에 대한 대처\n",
    "# mpl.rcParams['axes.unicode_minus'] = False"
   ]
  },
  {
   "cell_type": "code",
   "execution_count": 3,
   "metadata": {},
   "outputs": [],
   "source": [
    "raw_test = pd.read_csv('GunPoint_TEST.txt', sep='\\n', header=None)"
   ]
  },
  {
   "cell_type": "code",
   "execution_count": 4,
   "metadata": {},
   "outputs": [
    {
     "data": {
      "text/plain": [
       "150"
      ]
     },
     "execution_count": 4,
     "metadata": {},
     "output_type": "execute_result"
    }
   ],
   "source": [
    "data_count = len(raw_test[0])\n",
    "data_count"
   ]
  },
  {
   "cell_type": "code",
   "execution_count": 5,
   "metadata": {
    "scrolled": true
   },
   "outputs": [
    {
     "data": {
      "text/plain": [
       "151"
      ]
     },
     "execution_count": 5,
     "metadata": {},
     "output_type": "execute_result"
    }
   ],
   "source": [
    "time_len = len(raw_test[0][0].split())\n",
    "time_len"
   ]
  },
  {
   "cell_type": "code",
   "execution_count": 6,
   "metadata": {},
   "outputs": [],
   "source": [
    "columns = [i for i in range(time_len)]"
   ]
  },
  {
   "cell_type": "code",
   "execution_count": 7,
   "metadata": {},
   "outputs": [],
   "source": [
    "df = pd.DataFrame(columns=columns)"
   ]
  },
  {
   "cell_type": "code",
   "execution_count": 8,
   "metadata": {},
   "outputs": [],
   "source": [
    "for i in range(data_count):\n",
    "    df.loc[i] = raw_test[0][i].split()"
   ]
  },
  {
   "cell_type": "code",
   "execution_count": 9,
   "metadata": {
    "scrolled": true
   },
   "outputs": [
    {
     "data": {
      "text/html": [
       "<div>\n",
       "<style scoped>\n",
       "    .dataframe tbody tr th:only-of-type {\n",
       "        vertical-align: middle;\n",
       "    }\n",
       "\n",
       "    .dataframe tbody tr th {\n",
       "        vertical-align: top;\n",
       "    }\n",
       "\n",
       "    .dataframe thead th {\n",
       "        text-align: right;\n",
       "    }\n",
       "</style>\n",
       "<table border=\"1\" class=\"dataframe\">\n",
       "  <thead>\n",
       "    <tr style=\"text-align: right;\">\n",
       "      <th></th>\n",
       "      <th>0</th>\n",
       "      <th>1</th>\n",
       "      <th>2</th>\n",
       "      <th>3</th>\n",
       "      <th>4</th>\n",
       "      <th>5</th>\n",
       "      <th>6</th>\n",
       "      <th>7</th>\n",
       "      <th>8</th>\n",
       "      <th>9</th>\n",
       "      <th>...</th>\n",
       "      <th>141</th>\n",
       "      <th>142</th>\n",
       "      <th>143</th>\n",
       "      <th>144</th>\n",
       "      <th>145</th>\n",
       "      <th>146</th>\n",
       "      <th>147</th>\n",
       "      <th>148</th>\n",
       "      <th>149</th>\n",
       "      <th>150</th>\n",
       "    </tr>\n",
       "  </thead>\n",
       "  <tbody>\n",
       "    <tr>\n",
       "      <th>0</th>\n",
       "      <td>1.0000000e+00</td>\n",
       "      <td>-1.1250133e+00</td>\n",
       "      <td>-1.1313383e+00</td>\n",
       "      <td>-1.1382884e+00</td>\n",
       "      <td>-1.1466873e+00</td>\n",
       "      <td>-1.1386387e+00</td>\n",
       "      <td>-1.1414312e+00</td>\n",
       "      <td>-1.1436908e+00</td>\n",
       "      <td>-1.1443789e+00</td>\n",
       "      <td>-1.1549123e+00</td>\n",
       "      <td>...</td>\n",
       "      <td>-1.2055721e+00</td>\n",
       "      <td>-1.2812350e+00</td>\n",
       "      <td>-1.3234204e+00</td>\n",
       "      <td>-1.3457996e+00</td>\n",
       "      <td>-1.3445471e+00</td>\n",
       "      <td>-1.3010980e+00</td>\n",
       "      <td>-1.2659029e+00</td>\n",
       "      <td>-1.2127167e+00</td>\n",
       "      <td>-1.2061778e+00</td>\n",
       "      <td>-1.2184217e+00</td>\n",
       "    </tr>\n",
       "    <tr>\n",
       "      <th>1</th>\n",
       "      <td>2.0000000e+00</td>\n",
       "      <td>-6.2695602e-01</td>\n",
       "      <td>-6.2591896e-01</td>\n",
       "      <td>-6.2753797e-01</td>\n",
       "      <td>-6.2632624e-01</td>\n",
       "      <td>-6.2408545e-01</td>\n",
       "      <td>-6.2470754e-01</td>\n",
       "      <td>-6.2500642e-01</td>\n",
       "      <td>-6.2417532e-01</td>\n",
       "      <td>-6.2401803e-01</td>\n",
       "      <td>...</td>\n",
       "      <td>-6.2001948e-01</td>\n",
       "      <td>-6.2150481e-01</td>\n",
       "      <td>-6.2152598e-01</td>\n",
       "      <td>-6.2409104e-01</td>\n",
       "      <td>-6.2398853e-01</td>\n",
       "      <td>-6.2434988e-01</td>\n",
       "      <td>-6.2437622e-01</td>\n",
       "      <td>-6.1947093e-01</td>\n",
       "      <td>-6.1205789e-01</td>\n",
       "      <td>-6.0642232e-01</td>\n",
       "    </tr>\n",
       "    <tr>\n",
       "      <th>2</th>\n",
       "      <td>2.0000000e+00</td>\n",
       "      <td>-2.0011630e+00</td>\n",
       "      <td>-1.9995755e+00</td>\n",
       "      <td>-1.9995372e+00</td>\n",
       "      <td>-1.9991963e+00</td>\n",
       "      <td>-1.9990038e+00</td>\n",
       "      <td>-2.0003147e+00</td>\n",
       "      <td>-1.9984249e+00</td>\n",
       "      <td>-2.0006789e+00</td>\n",
       "      <td>-1.9999948e+00</td>\n",
       "      <td>...</td>\n",
       "      <td>3.1279799e-01</td>\n",
       "      <td>2.4221679e-01</td>\n",
       "      <td>1.4571625e-01</td>\n",
       "      <td>1.4012286e-02</td>\n",
       "      <td>-1.5178029e-01</td>\n",
       "      <td>-3.3342703e-01</td>\n",
       "      <td>-5.7743491e-01</td>\n",
       "      <td>-8.1271961e-01</td>\n",
       "      <td>-1.0711473e+00</td>\n",
       "      <td>-1.3233828e+00</td>\n",
       "    </tr>\n",
       "    <tr>\n",
       "      <th>3</th>\n",
       "      <td>1.0000000e+00</td>\n",
       "      <td>-1.0045865e+00</td>\n",
       "      <td>-9.9984343e-01</td>\n",
       "      <td>-9.9524996e-01</td>\n",
       "      <td>-9.9201889e-01</td>\n",
       "      <td>-9.9119984e-01</td>\n",
       "      <td>-9.8755556e-01</td>\n",
       "      <td>-9.9647321e-01</td>\n",
       "      <td>-9.9687789e-01</td>\n",
       "      <td>-9.9867287e-01</td>\n",
       "      <td>...</td>\n",
       "      <td>-1.0802448e+00</td>\n",
       "      <td>-1.0601662e+00</td>\n",
       "      <td>-1.0444708e+00</td>\n",
       "      <td>-1.0395276e+00</td>\n",
       "      <td>-1.0406935e+00</td>\n",
       "      <td>-1.0441623e+00</td>\n",
       "      <td>-1.0440583e+00</td>\n",
       "      <td>-1.0449158e+00</td>\n",
       "      <td>-1.0442265e+00</td>\n",
       "      <td>-1.0432617e+00</td>\n",
       "    </tr>\n",
       "    <tr>\n",
       "      <th>4</th>\n",
       "      <td>1.0000000e+00</td>\n",
       "      <td>-7.4262544e-01</td>\n",
       "      <td>-7.4377019e-01</td>\n",
       "      <td>-7.4390038e-01</td>\n",
       "      <td>-7.4487322e-01</td>\n",
       "      <td>-7.4474502e-01</td>\n",
       "      <td>-7.4536434e-01</td>\n",
       "      <td>-7.4707751e-01</td>\n",
       "      <td>-7.4661487e-01</td>\n",
       "      <td>-7.4670521e-01</td>\n",
       "      <td>...</td>\n",
       "      <td>-6.9931224e-01</td>\n",
       "      <td>-6.9689702e-01</td>\n",
       "      <td>-6.9405923e-01</td>\n",
       "      <td>-6.8915025e-01</td>\n",
       "      <td>-6.8753430e-01</td>\n",
       "      <td>-6.8279776e-01</td>\n",
       "      <td>-6.8215267e-01</td>\n",
       "      <td>-6.8102951e-01</td>\n",
       "      <td>-6.7051942e-01</td>\n",
       "      <td>-6.5740270e-01</td>\n",
       "    </tr>\n",
       "  </tbody>\n",
       "</table>\n",
       "<p>5 rows × 151 columns</p>\n",
       "</div>"
      ],
      "text/plain": [
       "             0               1               2               3    \\\n",
       "0  1.0000000e+00  -1.1250133e+00  -1.1313383e+00  -1.1382884e+00   \n",
       "1  2.0000000e+00  -6.2695602e-01  -6.2591896e-01  -6.2753797e-01   \n",
       "2  2.0000000e+00  -2.0011630e+00  -1.9995755e+00  -1.9995372e+00   \n",
       "3  1.0000000e+00  -1.0045865e+00  -9.9984343e-01  -9.9524996e-01   \n",
       "4  1.0000000e+00  -7.4262544e-01  -7.4377019e-01  -7.4390038e-01   \n",
       "\n",
       "              4               5               6               7    \\\n",
       "0  -1.1466873e+00  -1.1386387e+00  -1.1414312e+00  -1.1436908e+00   \n",
       "1  -6.2632624e-01  -6.2408545e-01  -6.2470754e-01  -6.2500642e-01   \n",
       "2  -1.9991963e+00  -1.9990038e+00  -2.0003147e+00  -1.9984249e+00   \n",
       "3  -9.9201889e-01  -9.9119984e-01  -9.8755556e-01  -9.9647321e-01   \n",
       "4  -7.4487322e-01  -7.4474502e-01  -7.4536434e-01  -7.4707751e-01   \n",
       "\n",
       "              8               9    ...             141             142  \\\n",
       "0  -1.1443789e+00  -1.1549123e+00  ...  -1.2055721e+00  -1.2812350e+00   \n",
       "1  -6.2417532e-01  -6.2401803e-01  ...  -6.2001948e-01  -6.2150481e-01   \n",
       "2  -2.0006789e+00  -1.9999948e+00  ...   3.1279799e-01   2.4221679e-01   \n",
       "3  -9.9687789e-01  -9.9867287e-01  ...  -1.0802448e+00  -1.0601662e+00   \n",
       "4  -7.4661487e-01  -7.4670521e-01  ...  -6.9931224e-01  -6.9689702e-01   \n",
       "\n",
       "              143             144             145             146  \\\n",
       "0  -1.3234204e+00  -1.3457996e+00  -1.3445471e+00  -1.3010980e+00   \n",
       "1  -6.2152598e-01  -6.2409104e-01  -6.2398853e-01  -6.2434988e-01   \n",
       "2   1.4571625e-01   1.4012286e-02  -1.5178029e-01  -3.3342703e-01   \n",
       "3  -1.0444708e+00  -1.0395276e+00  -1.0406935e+00  -1.0441623e+00   \n",
       "4  -6.9405923e-01  -6.8915025e-01  -6.8753430e-01  -6.8279776e-01   \n",
       "\n",
       "              147             148             149             150  \n",
       "0  -1.2659029e+00  -1.2127167e+00  -1.2061778e+00  -1.2184217e+00  \n",
       "1  -6.2437622e-01  -6.1947093e-01  -6.1205789e-01  -6.0642232e-01  \n",
       "2  -5.7743491e-01  -8.1271961e-01  -1.0711473e+00  -1.3233828e+00  \n",
       "3  -1.0440583e+00  -1.0449158e+00  -1.0442265e+00  -1.0432617e+00  \n",
       "4  -6.8215267e-01  -6.8102951e-01  -6.7051942e-01  -6.5740270e-01  \n",
       "\n",
       "[5 rows x 151 columns]"
      ]
     },
     "execution_count": 9,
     "metadata": {},
     "output_type": "execute_result"
    }
   ],
   "source": [
    "df.head()"
   ]
  },
  {
   "cell_type": "code",
   "execution_count": 10,
   "metadata": {},
   "outputs": [],
   "source": [
    "df = df.astype('float64')\n",
    "df = df.T"
   ]
  },
  {
   "cell_type": "code",
   "execution_count": 11,
   "metadata": {},
   "outputs": [],
   "source": [
    "df_graph = df.drop([0], axis=0)"
   ]
  },
  {
   "cell_type": "code",
   "execution_count": 12,
   "metadata": {},
   "outputs": [],
   "source": [
    "# df_graph.plot()"
   ]
  },
  {
   "cell_type": "code",
   "execution_count": 13,
   "metadata": {},
   "outputs": [
    {
     "data": {
      "text/html": [
       "<div>\n",
       "<style scoped>\n",
       "    .dataframe tbody tr th:only-of-type {\n",
       "        vertical-align: middle;\n",
       "    }\n",
       "\n",
       "    .dataframe tbody tr th {\n",
       "        vertical-align: top;\n",
       "    }\n",
       "\n",
       "    .dataframe thead th {\n",
       "        text-align: right;\n",
       "    }\n",
       "</style>\n",
       "<table border=\"1\" class=\"dataframe\">\n",
       "  <thead>\n",
       "    <tr style=\"text-align: right;\">\n",
       "      <th></th>\n",
       "      <th>0</th>\n",
       "      <th>1</th>\n",
       "      <th>2</th>\n",
       "      <th>3</th>\n",
       "      <th>4</th>\n",
       "      <th>5</th>\n",
       "      <th>6</th>\n",
       "      <th>7</th>\n",
       "      <th>8</th>\n",
       "      <th>9</th>\n",
       "      <th>...</th>\n",
       "      <th>140</th>\n",
       "      <th>141</th>\n",
       "      <th>142</th>\n",
       "      <th>143</th>\n",
       "      <th>144</th>\n",
       "      <th>145</th>\n",
       "      <th>146</th>\n",
       "      <th>147</th>\n",
       "      <th>148</th>\n",
       "      <th>149</th>\n",
       "    </tr>\n",
       "  </thead>\n",
       "  <tbody>\n",
       "    <tr>\n",
       "      <th>0</th>\n",
       "      <td>1.000000</td>\n",
       "      <td>2.000000</td>\n",
       "      <td>2.000000</td>\n",
       "      <td>1.000000</td>\n",
       "      <td>1.000000</td>\n",
       "      <td>2.000000</td>\n",
       "      <td>1.000000</td>\n",
       "      <td>2.000000</td>\n",
       "      <td>2.000000</td>\n",
       "      <td>1.000000</td>\n",
       "      <td>...</td>\n",
       "      <td>2.000000</td>\n",
       "      <td>1.000000</td>\n",
       "      <td>1.000000</td>\n",
       "      <td>2.000000</td>\n",
       "      <td>1.000000</td>\n",
       "      <td>2.000000</td>\n",
       "      <td>1.000000</td>\n",
       "      <td>2.000000</td>\n",
       "      <td>2.000000</td>\n",
       "      <td>1.000000</td>\n",
       "    </tr>\n",
       "    <tr>\n",
       "      <th>1</th>\n",
       "      <td>-1.125013</td>\n",
       "      <td>-0.626956</td>\n",
       "      <td>-2.001163</td>\n",
       "      <td>-1.004587</td>\n",
       "      <td>-0.742625</td>\n",
       "      <td>-0.642191</td>\n",
       "      <td>-1.106342</td>\n",
       "      <td>-1.140449</td>\n",
       "      <td>-0.702391</td>\n",
       "      <td>-0.586634</td>\n",
       "      <td>...</td>\n",
       "      <td>-1.407683</td>\n",
       "      <td>-1.353437</td>\n",
       "      <td>-0.704113</td>\n",
       "      <td>-1.847902</td>\n",
       "      <td>-0.602741</td>\n",
       "      <td>-0.580006</td>\n",
       "      <td>-0.728153</td>\n",
       "      <td>-0.738012</td>\n",
       "      <td>-1.265111</td>\n",
       "      <td>-1.427205</td>\n",
       "    </tr>\n",
       "    <tr>\n",
       "      <th>2</th>\n",
       "      <td>-1.131338</td>\n",
       "      <td>-0.625919</td>\n",
       "      <td>-1.999575</td>\n",
       "      <td>-0.999843</td>\n",
       "      <td>-0.743770</td>\n",
       "      <td>-0.646566</td>\n",
       "      <td>-1.165646</td>\n",
       "      <td>-1.138248</td>\n",
       "      <td>-0.700847</td>\n",
       "      <td>-0.585691</td>\n",
       "      <td>...</td>\n",
       "      <td>-1.391209</td>\n",
       "      <td>-1.349675</td>\n",
       "      <td>-0.702873</td>\n",
       "      <td>-1.908496</td>\n",
       "      <td>-0.602728</td>\n",
       "      <td>-0.583332</td>\n",
       "      <td>-0.730242</td>\n",
       "      <td>-0.736301</td>\n",
       "      <td>-1.256093</td>\n",
       "      <td>-1.408303</td>\n",
       "    </tr>\n",
       "    <tr>\n",
       "      <th>3</th>\n",
       "      <td>-1.138288</td>\n",
       "      <td>-0.627538</td>\n",
       "      <td>-1.999537</td>\n",
       "      <td>-0.995250</td>\n",
       "      <td>-0.743900</td>\n",
       "      <td>-0.651656</td>\n",
       "      <td>-1.252637</td>\n",
       "      <td>-1.134681</td>\n",
       "      <td>-0.699962</td>\n",
       "      <td>-0.582991</td>\n",
       "      <td>...</td>\n",
       "      <td>-1.377523</td>\n",
       "      <td>-1.352382</td>\n",
       "      <td>-0.701821</td>\n",
       "      <td>-1.931031</td>\n",
       "      <td>-0.602367</td>\n",
       "      <td>-0.586108</td>\n",
       "      <td>-0.733560</td>\n",
       "      <td>-0.731226</td>\n",
       "      <td>-1.259421</td>\n",
       "      <td>-1.347118</td>\n",
       "    </tr>\n",
       "    <tr>\n",
       "      <th>4</th>\n",
       "      <td>-1.146687</td>\n",
       "      <td>-0.626326</td>\n",
       "      <td>-1.999196</td>\n",
       "      <td>-0.992019</td>\n",
       "      <td>-0.744873</td>\n",
       "      <td>-0.653294</td>\n",
       "      <td>-1.341572</td>\n",
       "      <td>-1.131363</td>\n",
       "      <td>-0.697181</td>\n",
       "      <td>-0.583110</td>\n",
       "      <td>...</td>\n",
       "      <td>-1.372165</td>\n",
       "      <td>-1.349438</td>\n",
       "      <td>-0.701723</td>\n",
       "      <td>-1.932468</td>\n",
       "      <td>-0.603630</td>\n",
       "      <td>-0.589118</td>\n",
       "      <td>-0.734188</td>\n",
       "      <td>-0.728455</td>\n",
       "      <td>-1.256351</td>\n",
       "      <td>-1.291666</td>\n",
       "    </tr>\n",
       "  </tbody>\n",
       "</table>\n",
       "<p>5 rows × 150 columns</p>\n",
       "</div>"
      ],
      "text/plain": [
       "        0         1         2         3         4         5         6    \\\n",
       "0  1.000000  2.000000  2.000000  1.000000  1.000000  2.000000  1.000000   \n",
       "1 -1.125013 -0.626956 -2.001163 -1.004587 -0.742625 -0.642191 -1.106342   \n",
       "2 -1.131338 -0.625919 -1.999575 -0.999843 -0.743770 -0.646566 -1.165646   \n",
       "3 -1.138288 -0.627538 -1.999537 -0.995250 -0.743900 -0.651656 -1.252637   \n",
       "4 -1.146687 -0.626326 -1.999196 -0.992019 -0.744873 -0.653294 -1.341572   \n",
       "\n",
       "        7         8         9    ...       140       141       142       143  \\\n",
       "0  2.000000  2.000000  1.000000  ...  2.000000  1.000000  1.000000  2.000000   \n",
       "1 -1.140449 -0.702391 -0.586634  ... -1.407683 -1.353437 -0.704113 -1.847902   \n",
       "2 -1.138248 -0.700847 -0.585691  ... -1.391209 -1.349675 -0.702873 -1.908496   \n",
       "3 -1.134681 -0.699962 -0.582991  ... -1.377523 -1.352382 -0.701821 -1.931031   \n",
       "4 -1.131363 -0.697181 -0.583110  ... -1.372165 -1.349438 -0.701723 -1.932468   \n",
       "\n",
       "        144       145       146       147       148       149  \n",
       "0  1.000000  2.000000  1.000000  2.000000  2.000000  1.000000  \n",
       "1 -0.602741 -0.580006 -0.728153 -0.738012 -1.265111 -1.427205  \n",
       "2 -0.602728 -0.583332 -0.730242 -0.736301 -1.256093 -1.408303  \n",
       "3 -0.602367 -0.586108 -0.733560 -0.731226 -1.259421 -1.347118  \n",
       "4 -0.603630 -0.589118 -0.734188 -0.728455 -1.256351 -1.291666  \n",
       "\n",
       "[5 rows x 150 columns]"
      ]
     },
     "execution_count": 13,
     "metadata": {},
     "output_type": "execute_result"
    }
   ],
   "source": [
    "df.head()"
   ]
  },
  {
   "cell_type": "code",
   "execution_count": 14,
   "metadata": {},
   "outputs": [
    {
     "data": {
      "text/plain": [
       "2.0"
      ]
     },
     "execution_count": 14,
     "metadata": {},
     "output_type": "execute_result"
    }
   ],
   "source": [
    "df.loc[0,1]"
   ]
  },
  {
   "cell_type": "code",
   "execution_count": 15,
   "metadata": {},
   "outputs": [],
   "source": [
    "df_class1 = pd.DataFrame()\n",
    "df_class2 = pd.DataFrame()\n",
    "a = 0\n",
    "b = 0\n",
    "for i in range(data_count):\n",
    "    if df.loc[0,i] == 1:\n",
    "        df_class1[a] = df.loc[1:,i]\n",
    "        a += 1\n",
    "    elif df.loc[0,i] == 2:\n",
    "        df_class2[b] = df.loc[1:,i]\n",
    "        b += 1\n",
    "# df.loc[1:,0]"
   ]
  },
  {
   "cell_type": "code",
   "execution_count": 16,
   "metadata": {},
   "outputs": [],
   "source": [
    "# df_class1.plot()"
   ]
  },
  {
   "cell_type": "code",
   "execution_count": 17,
   "metadata": {},
   "outputs": [],
   "source": [
    "# df_class2.plot()"
   ]
  },
  {
   "cell_type": "code",
   "execution_count": 18,
   "metadata": {},
   "outputs": [],
   "source": [
    "data = np.loadtxt('GunPoint_TEST.txt')  #, delimiter = ',')\n",
    "Y = data[:,0]\n",
    "X = data[:,1:]"
   ]
  },
  {
   "cell_type": "code",
   "execution_count": 19,
   "metadata": {},
   "outputs": [
    {
     "data": {
      "text/plain": [
       "array([[ 1.        , -1.1250133 , -1.1313383 , ..., -1.2127167 ,\n",
       "        -1.2061778 , -1.2184217 ],\n",
       "       [ 2.        , -0.62695602, -0.62591896, ..., -0.61947093,\n",
       "        -0.61205789, -0.60642232],\n",
       "       [ 2.        , -2.001163  , -1.9995755 , ..., -0.81271961,\n",
       "        -1.0711473 , -1.3233828 ],\n",
       "       ...,\n",
       "       [ 2.        , -0.73801219, -0.73630065, ..., -0.60964613,\n",
       "        -0.60861649, -0.61217658],\n",
       "       [ 2.        , -1.2651108 , -1.2560929 , ..., -1.1999699 ,\n",
       "        -1.1933735 , -1.1928348 ],\n",
       "       [ 1.        , -1.4272055 , -1.4083032 , ..., -1.1034614 ,\n",
       "        -1.1531193 , -1.222043  ]])"
      ]
     },
     "execution_count": 19,
     "metadata": {},
     "output_type": "execute_result"
    }
   ],
   "source": [
    "data"
   ]
  },
  {
   "cell_type": "code",
   "execution_count": 25,
   "metadata": {},
   "outputs": [
    {
     "data": {
      "text/plain": [
       "150"
      ]
     },
     "execution_count": 25,
     "metadata": {},
     "output_type": "execute_result"
    }
   ],
   "source": [
    "# 데이터 갯수\n",
    "len(data)"
   ]
  },
  {
   "cell_type": "code",
   "execution_count": 26,
   "metadata": {},
   "outputs": [
    {
     "data": {
      "text/plain": [
       "151"
      ]
     },
     "execution_count": 26,
     "metadata": {},
     "output_type": "execute_result"
    }
   ],
   "source": [
    "# time 길이 + 1 (class)\n",
    "len(data[0])"
   ]
  },
  {
   "cell_type": "code",
   "execution_count": 30,
   "metadata": {},
   "outputs": [
    {
     "data": {
      "text/plain": [
       "array([[-1.1250133 , -1.1313383 , -1.1382884 , ..., -1.2127167 ,\n",
       "        -1.2061778 , -1.2184217 ],\n",
       "       [-0.62695602, -0.62591896, -0.62753797, ..., -0.61947093,\n",
       "        -0.61205789, -0.60642232],\n",
       "       [-2.001163  , -1.9995755 , -1.9995372 , ..., -0.81271961,\n",
       "        -1.0711473 , -1.3233828 ],\n",
       "       ...,\n",
       "       [-0.73801219, -0.73630065, -0.73122561, ..., -0.60964613,\n",
       "        -0.60861649, -0.61217658],\n",
       "       [-1.2651108 , -1.2560929 , -1.2594215 , ..., -1.1999699 ,\n",
       "        -1.1933735 , -1.1928348 ],\n",
       "       [-1.4272055 , -1.4083032 , -1.3471178 , ..., -1.1034614 ,\n",
       "        -1.1531193 , -1.222043  ]])"
      ]
     },
     "execution_count": 30,
     "metadata": {},
     "output_type": "execute_result"
    }
   ],
   "source": [
    "data[:,1:]"
   ]
  },
  {
   "cell_type": "code",
   "execution_count": null,
   "metadata": {},
   "outputs": [],
   "source": []
  }
 ],
 "metadata": {
  "kernelspec": {
   "display_name": "Python 3",
   "language": "python",
   "name": "python3"
  }
 },
 "nbformat": 4,
 "nbformat_minor": 2
}
