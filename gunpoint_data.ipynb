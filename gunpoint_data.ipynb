{
 "cells": [
  {
   "cell_type": "code",
   "execution_count": 1,
   "metadata": {},
   "outputs": [],
   "source": [
    "import pandas as pd\n",
    "import numpy as np"
   ]
  },
  {
   "cell_type": "code",
   "execution_count": 2,
   "metadata": {},
   "outputs": [],
   "source": [
    "raw_test = pd.read_csv('GunPoint_TEST.txt', sep='\\n', header=None)"
   ]
  },
  {
   "cell_type": "code",
   "execution_count": 3,
   "metadata": {},
   "outputs": [
    {
     "data": {
      "text/plain": [
       "150"
      ]
     },
     "execution_count": 3,
     "metadata": {},
     "output_type": "execute_result"
    }
   ],
   "source": [
    "data_count = len(raw_test[0])\n",
    "data_count"
   ]
  },
  {
   "cell_type": "code",
   "execution_count": 4,
   "metadata": {
    "scrolled": true
   },
   "outputs": [
    {
     "data": {
      "text/plain": [
       "151"
      ]
     },
     "execution_count": 4,
     "metadata": {},
     "output_type": "execute_result"
    }
   ],
   "source": [
    "time_len = len(raw_test[0][0].split())\n",
    "time_len"
   ]
  },
  {
   "cell_type": "code",
   "execution_count": 5,
   "metadata": {},
   "outputs": [],
   "source": [
    "columns = [i for i in range(time_len)]"
   ]
  },
  {
   "cell_type": "code",
   "execution_count": 6,
   "metadata": {},
   "outputs": [],
   "source": [
    "df = pd.DataFrame(columns=columns)"
   ]
  },
  {
   "cell_type": "code",
   "execution_count": 7,
   "metadata": {},
   "outputs": [],
   "source": [
    "for i in range(data_count):\n",
    "    df.loc[i] = raw_test[0][i].split()"
   ]
  },
  {
   "cell_type": "code",
   "execution_count": 8,
   "metadata": {},
   "outputs": [
    {
     "data": {
      "text/html": [
       "<div>\n",
       "<style scoped>\n",
       "    .dataframe tbody tr th:only-of-type {\n",
       "        vertical-align: middle;\n",
       "    }\n",
       "\n",
       "    .dataframe tbody tr th {\n",
       "        vertical-align: top;\n",
       "    }\n",
       "\n",
       "    .dataframe thead th {\n",
       "        text-align: right;\n",
       "    }\n",
       "</style>\n",
       "<table border=\"1\" class=\"dataframe\">\n",
       "  <thead>\n",
       "    <tr style=\"text-align: right;\">\n",
       "      <th></th>\n",
       "      <th>0</th>\n",
       "      <th>1</th>\n",
       "      <th>2</th>\n",
       "      <th>3</th>\n",
       "      <th>4</th>\n",
       "      <th>5</th>\n",
       "      <th>6</th>\n",
       "      <th>7</th>\n",
       "      <th>8</th>\n",
       "      <th>9</th>\n",
       "      <th>...</th>\n",
       "      <th>141</th>\n",
       "      <th>142</th>\n",
       "      <th>143</th>\n",
       "      <th>144</th>\n",
       "      <th>145</th>\n",
       "      <th>146</th>\n",
       "      <th>147</th>\n",
       "      <th>148</th>\n",
       "      <th>149</th>\n",
       "      <th>150</th>\n",
       "    </tr>\n",
       "  </thead>\n",
       "  <tbody>\n",
       "    <tr>\n",
       "      <th>0</th>\n",
       "      <td>1.0000000e+00</td>\n",
       "      <td>-1.1250133e+00</td>\n",
       "      <td>-1.1313383e+00</td>\n",
       "      <td>-1.1382884e+00</td>\n",
       "      <td>-1.1466873e+00</td>\n",
       "      <td>-1.1386387e+00</td>\n",
       "      <td>-1.1414312e+00</td>\n",
       "      <td>-1.1436908e+00</td>\n",
       "      <td>-1.1443789e+00</td>\n",
       "      <td>-1.1549123e+00</td>\n",
       "      <td>...</td>\n",
       "      <td>-1.2055721e+00</td>\n",
       "      <td>-1.2812350e+00</td>\n",
       "      <td>-1.3234204e+00</td>\n",
       "      <td>-1.3457996e+00</td>\n",
       "      <td>-1.3445471e+00</td>\n",
       "      <td>-1.3010980e+00</td>\n",
       "      <td>-1.2659029e+00</td>\n",
       "      <td>-1.2127167e+00</td>\n",
       "      <td>-1.2061778e+00</td>\n",
       "      <td>-1.2184217e+00</td>\n",
       "    </tr>\n",
       "    <tr>\n",
       "      <th>1</th>\n",
       "      <td>2.0000000e+00</td>\n",
       "      <td>-6.2695602e-01</td>\n",
       "      <td>-6.2591896e-01</td>\n",
       "      <td>-6.2753797e-01</td>\n",
       "      <td>-6.2632624e-01</td>\n",
       "      <td>-6.2408545e-01</td>\n",
       "      <td>-6.2470754e-01</td>\n",
       "      <td>-6.2500642e-01</td>\n",
       "      <td>-6.2417532e-01</td>\n",
       "      <td>-6.2401803e-01</td>\n",
       "      <td>...</td>\n",
       "      <td>-6.2001948e-01</td>\n",
       "      <td>-6.2150481e-01</td>\n",
       "      <td>-6.2152598e-01</td>\n",
       "      <td>-6.2409104e-01</td>\n",
       "      <td>-6.2398853e-01</td>\n",
       "      <td>-6.2434988e-01</td>\n",
       "      <td>-6.2437622e-01</td>\n",
       "      <td>-6.1947093e-01</td>\n",
       "      <td>-6.1205789e-01</td>\n",
       "      <td>-6.0642232e-01</td>\n",
       "    </tr>\n",
       "    <tr>\n",
       "      <th>2</th>\n",
       "      <td>2.0000000e+00</td>\n",
       "      <td>-2.0011630e+00</td>\n",
       "      <td>-1.9995755e+00</td>\n",
       "      <td>-1.9995372e+00</td>\n",
       "      <td>-1.9991963e+00</td>\n",
       "      <td>-1.9990038e+00</td>\n",
       "      <td>-2.0003147e+00</td>\n",
       "      <td>-1.9984249e+00</td>\n",
       "      <td>-2.0006789e+00</td>\n",
       "      <td>-1.9999948e+00</td>\n",
       "      <td>...</td>\n",
       "      <td>3.1279799e-01</td>\n",
       "      <td>2.4221679e-01</td>\n",
       "      <td>1.4571625e-01</td>\n",
       "      <td>1.4012286e-02</td>\n",
       "      <td>-1.5178029e-01</td>\n",
       "      <td>-3.3342703e-01</td>\n",
       "      <td>-5.7743491e-01</td>\n",
       "      <td>-8.1271961e-01</td>\n",
       "      <td>-1.0711473e+00</td>\n",
       "      <td>-1.3233828e+00</td>\n",
       "    </tr>\n",
       "    <tr>\n",
       "      <th>3</th>\n",
       "      <td>1.0000000e+00</td>\n",
       "      <td>-1.0045865e+00</td>\n",
       "      <td>-9.9984343e-01</td>\n",
       "      <td>-9.9524996e-01</td>\n",
       "      <td>-9.9201889e-01</td>\n",
       "      <td>-9.9119984e-01</td>\n",
       "      <td>-9.8755556e-01</td>\n",
       "      <td>-9.9647321e-01</td>\n",
       "      <td>-9.9687789e-01</td>\n",
       "      <td>-9.9867287e-01</td>\n",
       "      <td>...</td>\n",
       "      <td>-1.0802448e+00</td>\n",
       "      <td>-1.0601662e+00</td>\n",
       "      <td>-1.0444708e+00</td>\n",
       "      <td>-1.0395276e+00</td>\n",
       "      <td>-1.0406935e+00</td>\n",
       "      <td>-1.0441623e+00</td>\n",
       "      <td>-1.0440583e+00</td>\n",
       "      <td>-1.0449158e+00</td>\n",
       "      <td>-1.0442265e+00</td>\n",
       "      <td>-1.0432617e+00</td>\n",
       "    </tr>\n",
       "    <tr>\n",
       "      <th>4</th>\n",
       "      <td>1.0000000e+00</td>\n",
       "      <td>-7.4262544e-01</td>\n",
       "      <td>-7.4377019e-01</td>\n",
       "      <td>-7.4390038e-01</td>\n",
       "      <td>-7.4487322e-01</td>\n",
       "      <td>-7.4474502e-01</td>\n",
       "      <td>-7.4536434e-01</td>\n",
       "      <td>-7.4707751e-01</td>\n",
       "      <td>-7.4661487e-01</td>\n",
       "      <td>-7.4670521e-01</td>\n",
       "      <td>...</td>\n",
       "      <td>-6.9931224e-01</td>\n",
       "      <td>-6.9689702e-01</td>\n",
       "      <td>-6.9405923e-01</td>\n",
       "      <td>-6.8915025e-01</td>\n",
       "      <td>-6.8753430e-01</td>\n",
       "      <td>-6.8279776e-01</td>\n",
       "      <td>-6.8215267e-01</td>\n",
       "      <td>-6.8102951e-01</td>\n",
       "      <td>-6.7051942e-01</td>\n",
       "      <td>-6.5740270e-01</td>\n",
       "    </tr>\n",
       "  </tbody>\n",
       "</table>\n",
       "<p>5 rows × 151 columns</p>\n",
       "</div>"
      ],
      "text/plain": [
       "             0               1               2               3    \\\n",
       "0  1.0000000e+00  -1.1250133e+00  -1.1313383e+00  -1.1382884e+00   \n",
       "1  2.0000000e+00  -6.2695602e-01  -6.2591896e-01  -6.2753797e-01   \n",
       "2  2.0000000e+00  -2.0011630e+00  -1.9995755e+00  -1.9995372e+00   \n",
       "3  1.0000000e+00  -1.0045865e+00  -9.9984343e-01  -9.9524996e-01   \n",
       "4  1.0000000e+00  -7.4262544e-01  -7.4377019e-01  -7.4390038e-01   \n",
       "\n",
       "              4               5               6               7    \\\n",
       "0  -1.1466873e+00  -1.1386387e+00  -1.1414312e+00  -1.1436908e+00   \n",
       "1  -6.2632624e-01  -6.2408545e-01  -6.2470754e-01  -6.2500642e-01   \n",
       "2  -1.9991963e+00  -1.9990038e+00  -2.0003147e+00  -1.9984249e+00   \n",
       "3  -9.9201889e-01  -9.9119984e-01  -9.8755556e-01  -9.9647321e-01   \n",
       "4  -7.4487322e-01  -7.4474502e-01  -7.4536434e-01  -7.4707751e-01   \n",
       "\n",
       "              8               9         ...                   141  \\\n",
       "0  -1.1443789e+00  -1.1549123e+00       ...        -1.2055721e+00   \n",
       "1  -6.2417532e-01  -6.2401803e-01       ...        -6.2001948e-01   \n",
       "2  -2.0006789e+00  -1.9999948e+00       ...         3.1279799e-01   \n",
       "3  -9.9687789e-01  -9.9867287e-01       ...        -1.0802448e+00   \n",
       "4  -7.4661487e-01  -7.4670521e-01       ...        -6.9931224e-01   \n",
       "\n",
       "              142             143             144             145  \\\n",
       "0  -1.2812350e+00  -1.3234204e+00  -1.3457996e+00  -1.3445471e+00   \n",
       "1  -6.2150481e-01  -6.2152598e-01  -6.2409104e-01  -6.2398853e-01   \n",
       "2   2.4221679e-01   1.4571625e-01   1.4012286e-02  -1.5178029e-01   \n",
       "3  -1.0601662e+00  -1.0444708e+00  -1.0395276e+00  -1.0406935e+00   \n",
       "4  -6.9689702e-01  -6.9405923e-01  -6.8915025e-01  -6.8753430e-01   \n",
       "\n",
       "              146             147             148             149  \\\n",
       "0  -1.3010980e+00  -1.2659029e+00  -1.2127167e+00  -1.2061778e+00   \n",
       "1  -6.2434988e-01  -6.2437622e-01  -6.1947093e-01  -6.1205789e-01   \n",
       "2  -3.3342703e-01  -5.7743491e-01  -8.1271961e-01  -1.0711473e+00   \n",
       "3  -1.0441623e+00  -1.0440583e+00  -1.0449158e+00  -1.0442265e+00   \n",
       "4  -6.8279776e-01  -6.8215267e-01  -6.8102951e-01  -6.7051942e-01   \n",
       "\n",
       "              150  \n",
       "0  -1.2184217e+00  \n",
       "1  -6.0642232e-01  \n",
       "2  -1.3233828e+00  \n",
       "3  -1.0432617e+00  \n",
       "4  -6.5740270e-01  \n",
       "\n",
       "[5 rows x 151 columns]"
      ]
     },
     "execution_count": 8,
     "metadata": {},
     "output_type": "execute_result"
    }
   ],
   "source": [
    "df.head()"
   ]
  },
  {
   "cell_type": "code",
   "execution_count": 9,
   "metadata": {},
   "outputs": [
    {
     "data": {
      "text/plain": [
       "str"
      ]
     },
     "execution_count": 9,
     "metadata": {},
     "output_type": "execute_result"
    }
   ],
   "source": [
    "type(df[0][0])"
   ]
  },
  {
   "cell_type": "code",
   "execution_count": 13,
   "metadata": {},
   "outputs": [
    {
     "data": {
      "text/plain": [
       "0    1.0000000e+00\n",
       "1    2.0000000e+00\n",
       "2    2.0000000e+00\n",
       "3    1.0000000e+00\n",
       "4    1.0000000e+00\n",
       "Name: 0, dtype: object"
      ]
     },
     "execution_count": 13,
     "metadata": {},
     "output_type": "execute_result"
    }
   ],
   "source": [
    "# class(정답) 컬럼을 분리하고 일단 그래프 그리기\n",
    "df[0].head()"
   ]
  },
  {
   "cell_type": "code",
   "execution_count": null,
   "metadata": {},
   "outputs": [],
   "source": []
  }
 ],
 "metadata": {
  "kernelspec": {
   "display_name": "Python 3",
   "language": "python",
   "name": "python3"
  },
  "language_info": {
   "codemirror_mode": {
    "name": "ipython",
    "version": 3
   },
   "file_extension": ".py",
   "mimetype": "text/x-python",
   "name": "python",
   "nbconvert_exporter": "python",
   "pygments_lexer": "ipython3",
   "version": "3.7.1"
  }
 },
 "nbformat": 4,
 "nbformat_minor": 2
}
