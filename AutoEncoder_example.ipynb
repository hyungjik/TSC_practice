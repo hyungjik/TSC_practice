{
 "cells": [
  {
   "cell_type": "code",
   "execution_count": 1,
   "metadata": {},
   "outputs": [
    {
     "name": "stderr",
     "output_type": "stream",
     "text": [
      "Using TensorFlow backend.\n"
     ]
    },
    {
     "name": "stdout",
     "output_type": "stream",
     "text": [
      "WARNING:tensorflow:From C:\\ProgramData\\Anaconda3\\envs\\require\\lib\\site-packages\\keras\\backend\\tensorflow_backend.py:66: The name tf.get_default_graph is deprecated. Please use tf.compat.v1.get_default_graph instead.\n",
      "\n",
      "WARNING:tensorflow:From C:\\ProgramData\\Anaconda3\\envs\\require\\lib\\site-packages\\keras\\backend\\tensorflow_backend.py:541: The name tf.placeholder is deprecated. Please use tf.compat.v1.placeholder instead.\n",
      "\n",
      "WARNING:tensorflow:From C:\\ProgramData\\Anaconda3\\envs\\require\\lib\\site-packages\\keras\\backend\\tensorflow_backend.py:4432: The name tf.random_uniform is deprecated. Please use tf.random.uniform instead.\n",
      "\n"
     ]
    }
   ],
   "source": [
    "from keras.layers import Input, Dense\n",
    "from keras.models import Model\n",
    "from keras.datasets import mnist\n",
    "import numpy as np\n",
    "import matplotlib.pyplot as plt\n",
    "# 인코딩될 표현(representation)의 크기\n",
    "encoding_dim = 32  # 32 floats -> 24.5의 압축으로 입력이 784 float라고 가정\n",
    "\n",
    "# 입력 플레이스홀더\n",
    "input_img = Input(shape=(784,))\n",
    "# \"encoded\"는 입력의 인코딩된 표현\n",
    "encoded = Dense(encoding_dim, activation='relu')(input_img)\n",
    "# \"decoded\"는 입력의 손실있는 재구성 (lossy reconstruction)\n",
    "decoded = Dense(784, activation='sigmoid')(encoded)"
   ]
  },
  {
   "cell_type": "code",
   "execution_count": 2,
   "metadata": {},
   "outputs": [],
   "source": [
    "# 입력을 입력의 재구성으로 매핑할 모델\n",
    "autoencoder = Model(input_img, decoded)\n",
    "\n",
    "# 이 모델은 입력을 입력의 인코딩된 입력의 표현으로 매핑\n",
    "encoder = Model(input_img, encoded)\n",
    "\n",
    "# 인코딩된 입력을 위한 플레이스 홀더\n",
    "encoded_input = Input(shape=(encoding_dim,))\n",
    "# 오토인코더 모델의 마지막 레이어 얻기\n",
    "decoder_layer = autoencoder.layers[-1]"
   ]
  },
  {
   "cell_type": "code",
   "execution_count": 3,
   "metadata": {},
   "outputs": [
    {
     "name": "stdout",
     "output_type": "stream",
     "text": [
      "WARNING:tensorflow:From C:\\ProgramData\\Anaconda3\\envs\\require\\lib\\site-packages\\keras\\optimizers.py:793: The name tf.train.Optimizer is deprecated. Please use tf.compat.v1.train.Optimizer instead.\n",
      "\n",
      "WARNING:tensorflow:From C:\\ProgramData\\Anaconda3\\envs\\require\\lib\\site-packages\\keras\\backend\\tensorflow_backend.py:3657: The name tf.log is deprecated. Please use tf.math.log instead.\n",
      "\n",
      "WARNING:tensorflow:From C:\\ProgramData\\Anaconda3\\envs\\require\\lib\\site-packages\\tensorflow\\python\\ops\\nn_impl.py:180: add_dispatch_support.<locals>.wrapper (from tensorflow.python.ops.array_ops) is deprecated and will be removed in a future version.\n",
      "Instructions for updating:\n",
      "Use tf.where in 2.0, which has the same broadcast rule as np.where\n"
     ]
    }
   ],
   "source": [
    "# 디코더 모델 생성\n",
    "decoder = Model(encoded_input, decoder_layer(encoded_input))\n",
    "\n",
    "autoencoder.compile(optimizer='adadelta', loss='binary_crossentropy')"
   ]
  },
  {
   "cell_type": "code",
   "execution_count": 4,
   "metadata": {},
   "outputs": [
    {
     "name": "stdout",
     "output_type": "stream",
     "text": [
      "(60000, 784)\n",
      "(10000, 784)\n"
     ]
    }
   ],
   "source": [
    "\n",
    "(x_train, _), (x_test, _) = mnist.load_data()\n",
    "\n",
    "x_train = x_train.astype('float32') / 255.\n",
    "x_test = x_test.astype('float32') / 255.\n",
    "x_train = x_train.reshape((len(x_train), np.prod(x_train.shape[1:])))\n",
    "x_test = x_test.reshape((len(x_test), np.prod(x_test.shape[1:])))\n",
    "\n",
    "print(x_train.shape)\n",
    "print(x_test.shape)"
   ]
  },
  {
   "cell_type": "code",
   "execution_count": 5,
   "metadata": {},
   "outputs": [
    {
     "name": "stdout",
     "output_type": "stream",
     "text": [
      "WARNING:tensorflow:From C:\\ProgramData\\Anaconda3\\envs\\require\\lib\\site-packages\\keras\\backend\\tensorflow_backend.py:1033: The name tf.assign_add is deprecated. Please use tf.compat.v1.assign_add instead.\n",
      "\n",
      "Train on 60000 samples, validate on 10000 samples\n",
      "Epoch 1/50\n",
      "60000/60000 [==============================] - 2s 37us/step - loss: 0.3603 - val_loss: 0.2710\n",
      "Epoch 2/50\n",
      "60000/60000 [==============================] - 1s 16us/step - loss: 0.2636 - val_loss: 0.2529\n",
      "Epoch 3/50\n",
      "60000/60000 [==============================] - 1s 16us/step - loss: 0.2436 - val_loss: 0.2322\n",
      "Epoch 4/50\n",
      "60000/60000 [==============================] - 1s 16us/step - loss: 0.2244 - val_loss: 0.2140\n",
      "Epoch 5/50\n",
      "60000/60000 [==============================] - 1s 16us/step - loss: 0.2082 - val_loss: 0.2000\n",
      "Epoch 6/50\n",
      "60000/60000 [==============================] - 1s 16us/step - loss: 0.1964 - val_loss: 0.1901\n",
      "Epoch 7/50\n",
      "60000/60000 [==============================] - 1s 17us/step - loss: 0.1878 - val_loss: 0.1826\n",
      "Epoch 8/50\n",
      "60000/60000 [==============================] - 1s 16us/step - loss: 0.1810 - val_loss: 0.1765\n",
      "Epoch 9/50\n",
      "60000/60000 [==============================] - 1s 16us/step - loss: 0.1753 - val_loss: 0.1711\n",
      "Epoch 10/50\n",
      "60000/60000 [==============================] - 1s 16us/step - loss: 0.1702 - val_loss: 0.1663\n",
      "Epoch 11/50\n",
      "60000/60000 [==============================] - 1s 17us/step - loss: 0.1658 - val_loss: 0.1621\n",
      "Epoch 12/50\n",
      "60000/60000 [==============================] - 1s 17us/step - loss: 0.1618 - val_loss: 0.1583\n",
      "Epoch 13/50\n",
      "60000/60000 [==============================] - 1s 16us/step - loss: 0.1582 - val_loss: 0.1549\n",
      "Epoch 14/50\n",
      "60000/60000 [==============================] - 1s 16us/step - loss: 0.1549 - val_loss: 0.1517\n",
      "Epoch 15/50\n",
      "60000/60000 [==============================] - 1s 16us/step - loss: 0.1519 - val_loss: 0.1489\n",
      "Epoch 16/50\n",
      "60000/60000 [==============================] - 1s 16us/step - loss: 0.1490 - val_loss: 0.1460\n",
      "Epoch 17/50\n",
      "60000/60000 [==============================] - 1s 16us/step - loss: 0.1462 - val_loss: 0.1434\n",
      "Epoch 18/50\n",
      "60000/60000 [==============================] - 1s 17us/step - loss: 0.1436 - val_loss: 0.1407\n",
      "Epoch 19/50\n",
      "60000/60000 [==============================] - 1s 16us/step - loss: 0.1411 - val_loss: 0.1382\n",
      "Epoch 20/50\n",
      "60000/60000 [==============================] - 1s 16us/step - loss: 0.1387 - val_loss: 0.1359\n",
      "Epoch 21/50\n",
      "60000/60000 [==============================] - 1s 16us/step - loss: 0.1364 - val_loss: 0.1336\n",
      "Epoch 22/50\n",
      "60000/60000 [==============================] - 1s 16us/step - loss: 0.1342 - val_loss: 0.1315\n",
      "Epoch 23/50\n",
      "60000/60000 [==============================] - 1s 16us/step - loss: 0.1321 - val_loss: 0.1293\n",
      "Epoch 24/50\n",
      "60000/60000 [==============================] - 1s 16us/step - loss: 0.1300 - val_loss: 0.1274\n",
      "Epoch 25/50\n",
      "60000/60000 [==============================] - 1s 16us/step - loss: 0.1281 - val_loss: 0.1255\n",
      "Epoch 26/50\n",
      "60000/60000 [==============================] - 1s 16us/step - loss: 0.1262 - val_loss: 0.1235\n",
      "Epoch 27/50\n",
      "60000/60000 [==============================] - 1s 16us/step - loss: 0.1244 - val_loss: 0.1218\n",
      "Epoch 28/50\n",
      "60000/60000 [==============================] - 1s 16us/step - loss: 0.1227 - val_loss: 0.1202\n",
      "Epoch 29/50\n",
      "60000/60000 [==============================] - 1s 16us/step - loss: 0.1211 - val_loss: 0.1186\n",
      "Epoch 30/50\n",
      "60000/60000 [==============================] - 1s 16us/step - loss: 0.1196 - val_loss: 0.1171\n",
      "Epoch 31/50\n",
      "60000/60000 [==============================] - 1s 16us/step - loss: 0.1182 - val_loss: 0.1158\n",
      "Epoch 32/50\n",
      "60000/60000 [==============================] - 1s 16us/step - loss: 0.1169 - val_loss: 0.1145\n",
      "Epoch 33/50\n",
      "60000/60000 [==============================] - 1s 17us/step - loss: 0.1157 - val_loss: 0.1134\n",
      "Epoch 34/50\n",
      "60000/60000 [==============================] - 1s 16us/step - loss: 0.1145 - val_loss: 0.1123\n",
      "Epoch 35/50\n",
      "60000/60000 [==============================] - 1s 16us/step - loss: 0.1135 - val_loss: 0.1113\n",
      "Epoch 36/50\n",
      "60000/60000 [==============================] - 1s 16us/step - loss: 0.1126 - val_loss: 0.1104\n",
      "Epoch 37/50\n",
      "60000/60000 [==============================] - 1s 16us/step - loss: 0.1117 - val_loss: 0.1096\n",
      "Epoch 38/50\n",
      "60000/60000 [==============================] - 1s 16us/step - loss: 0.1109 - val_loss: 0.1088\n",
      "Epoch 39/50\n",
      "60000/60000 [==============================] - 1s 16us/step - loss: 0.1101 - val_loss: 0.1081\n",
      "Epoch 40/50\n",
      "60000/60000 [==============================] - 1s 16us/step - loss: 0.1095 - val_loss: 0.1075\n",
      "Epoch 41/50\n",
      "60000/60000 [==============================] - 1s 16us/step - loss: 0.1088 - val_loss: 0.1069\n",
      "Epoch 42/50\n",
      "60000/60000 [==============================] - 1s 16us/step - loss: 0.1082 - val_loss: 0.1063\n",
      "Epoch 43/50\n",
      "60000/60000 [==============================] - 1s 16us/step - loss: 0.1077 - val_loss: 0.1058\n",
      "Epoch 44/50\n",
      "60000/60000 [==============================] - 1s 16us/step - loss: 0.1071 - val_loss: 0.1053\n",
      "Epoch 45/50\n",
      "60000/60000 [==============================] - 1s 17us/step - loss: 0.1067 - val_loss: 0.1048\n",
      "Epoch 46/50\n",
      "60000/60000 [==============================] - 1s 16us/step - loss: 0.1062 - val_loss: 0.1044\n",
      "Epoch 47/50\n",
      "60000/60000 [==============================] - 1s 16us/step - loss: 0.1058 - val_loss: 0.1040\n",
      "Epoch 48/50\n",
      "60000/60000 [==============================] - 1s 16us/step - loss: 0.1054 - val_loss: 0.1036\n",
      "Epoch 49/50\n",
      "60000/60000 [==============================] - 1s 17us/step - loss: 0.1050 - val_loss: 0.1032\n",
      "Epoch 50/50\n",
      "60000/60000 [==============================] - 1s 16us/step - loss: 0.1047 - val_loss: 0.1029\n"
     ]
    },
    {
     "data": {
      "text/plain": [
       "<keras.callbacks.History at 0x23587112f08>"
      ]
     },
     "execution_count": 5,
     "metadata": {},
     "output_type": "execute_result"
    }
   ],
   "source": [
    "\n",
    "autoencoder.fit(x_train, x_train,\n",
    "                epochs=50,\n",
    "                batch_size=256,\n",
    "                shuffle=True,\n",
    "                validation_data=(x_test, x_test))\n"
   ]
  },
  {
   "cell_type": "code",
   "execution_count": 6,
   "metadata": {},
   "outputs": [],
   "source": [
    "# 숫자들을 인코딩 / 디코딩\n",
    "# test set에서 숫자들을 가져왔다는 것을 유의\n",
    "encoded_imgs = encoder.predict(x_test)\n",
    "decoded_imgs = decoder.predict(encoded_imgs)\n"
   ]
  },
  {
   "cell_type": "code",
   "execution_count": 7,
   "metadata": {},
   "outputs": [
    {
     "data": {
      "image/png": "[encoded data removed]",
      "text/plain": [
       "<Figure size 1440x288 with 20 Axes>"
      ]
     },
     "metadata": {
      "needs_background": "light"
     },
     "output_type": "display_data"
    }
   ],
   "source": [
    "# Matplotlib 사용\n",
    "n = 10  # 몇 개의 숫자를 나타낼 것인지\n",
    "plt.figure(figsize=(20, 4))\n",
    "for i in range(n):\n",
    "    # 원본 데이터\n",
    "    ax = plt.subplot(2, n, i + 1)\n",
    "    plt.imshow(x_test[i].reshape(28, 28))\n",
    "    plt.gray()\n",
    "    ax.get_xaxis().set_visible(False)\n",
    "    ax.get_yaxis().set_visible(False)\n",
    "\n",
    "    # 재구성된 데이터\n",
    "    ax = plt.subplot(2, n, i + 1 + n)\n",
    "    plt.imshow(decoded_imgs[i].reshape(28, 28))\n",
    "    plt.gray()\n",
    "    ax.get_xaxis().set_visible(False)\n",
    "    ax.get_yaxis().set_visible(False)\n",
    "plt.show()\n"
   ]
  },
  {
   "cell_type": "code",
   "execution_count": null,
   "metadata": {},
   "outputs": [],
   "source": []
  }
 ],
 "metadata": {
  "kernelspec": {
   "display_name": "jupyterKernel",
   "language": "python",
   "name": "require"
  },
  "language_info": {
   "codemirror_mode": {
    "name": "ipython",
    "version": 3
   },
   "file_extension": ".py",
   "mimetype": "text/x-python",
   "name": "python",
   "nbconvert_exporter": "python",
   "pygments_lexer": "ipython3",
   "version": "3.7.4"
  }
 },
 "nbformat": 4,
 "nbformat_minor": 2
}
