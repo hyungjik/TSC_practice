{
 "cells": [
  {
   "cell_type": "code",
   "execution_count": 1,
   "metadata": {},
   "outputs": [
    {
     "name": "stdout",
     "output_type": "stream",
     "text": [
      "[{\"market\":\"KRW-BTC\",\"timestamp\":1566820400904,\"total_ask_size\":5.25410409,\"total_bid_size\":4.65477317,\"orderbook_units\":[{\"ask_price\":1.2413E7,\"bid_price\":1.2412E7,\"ask_size\":0.13903437,\"bid_size\":0.32752893},{\"ask_price\":1.2414E7,\"bid_price\":1.2409E7,\"ask_size\":0.30671262,\"bid_size\":0.00094287},{\"ask_price\":1.2417E7,\"bid_price\":1.2406E7,\"ask_size\":0.14674783,\"bid_size\":0.375},{\"ask_price\":1.2419E7,\"bid_price\":1.2405E7,\"ask_size\":0.0003172,\"bid_size\":0.08075261},{\"ask_price\":1.242E7,\"bid_price\":1.2403E7,\"ask_size\":2.04920064,\"bid_size\":0.00244984},{\"ask_price\":1.2422E7,\"bid_price\":1.2401E7,\"ask_size\":0.004,\"bid_size\":0.30889572},{\"ask_price\":1.2426E7,\"bid_price\":1.24E7,\"ask_size\":0.09699239,\"bid_size\":0.12948654},{\"ask_price\":1.2428E7,\"bid_price\":1.2399E7,\"ask_size\":0.00816093,\"bid_size\":0.79982703},{\"ask_price\":1.2429E7,\"bid_price\":1.2398E7,\"ask_size\":0.92390174,\"bid_size\":0.40161316},{\"ask_price\":1.243E7,\"bid_price\":1.2396E7,\"ask_size\":0.94668013,\"bid_size\":0.78966903},{\"ask_price\":1.2431E7,\"bid_price\":1.2395E7,\"ask_size\":0.06736309,\"bid_size\":0.00161355},{\"ask_price\":1.2432E7,\"bid_price\":1.2394E7,\"ask_size\":0.00818863,\"bid_size\":0.00161368},{\"ask_price\":1.2433E7,\"bid_price\":1.2393E7,\"ask_size\":0.24389475,\"bid_size\":0.78676627},{\"ask_price\":1.2434E7,\"bid_price\":1.2392E7,\"ask_size\":0.3013886,\"bid_size\":0.34861394},{\"ask_price\":1.2435E7,\"bid_price\":1.2391E7,\"ask_size\":0.01152117,\"bid_size\":0.3}]}]\n"
     ]
    }
   ],
   "source": [
    "import requests\n",
    "\n",
    "url = \"https://api.upbit.com/v1/orderbook\"\n",
    "\n",
    "querystring = {\"markets\":\"KRW-BTC\"}\n",
    "\n",
    "response = requests.request(\"GET\", url, params=querystring)\n",
    "\n",
    "print(response.text)\n"
   ]
  },
  {
   "cell_type": "code",
   "execution_count": 2,
   "metadata": {},
   "outputs": [
    {
     "name": "stdout",
     "output_type": "stream",
     "text": [
      "[{\"market\":\"KRW-BTC\",\"timestamp\":1566820430259,\"total_ask_size\":3.65428813,\"total_bid_size\":8.89597848,\"orderbook_units\":[{\"ask_price\":1.2428E7,\"bid_price\":1.2426E7,\"ask_size\":0.0881954,\"bid_size\":0.32422216},{\"ask_price\":1.2429E7,\"bid_price\":1.2422E7,\"ask_size\":0.92390174,\"bid_size\":0.04843003},{\"ask_price\":1.243E7,\"bid_price\":1.2421E7,\"ask_size\":0.94668013,\"bid_size\":0.46739805},{\"ask_price\":1.2431E7,\"bid_price\":1.242E7,\"ask_size\":0.06736309,\"bid_size\":2.81291444},{\"ask_price\":1.2432E7,\"bid_price\":1.2409E7,\"ask_size\":0.00818863,\"bid_size\":0.44416956},{\"ask_price\":1.2433E7,\"bid_price\":1.2405E7,\"ask_size\":0.24389475,\"bid_size\":0.08075261},{\"ask_price\":1.2434E7,\"bid_price\":1.2404E7,\"ask_size\":0.0001886,\"bid_size\":0.01542308},{\"ask_price\":1.2435E7,\"bid_price\":1.2403E7,\"ask_size\":0.01152117,\"bid_size\":0.29914984},{\"ask_price\":1.2437E7,\"bid_price\":1.2401E7,\"ask_size\":0.00018856,\"bid_size\":0.30889572},{\"ask_price\":1.2439E7,\"bid_price\":1.24E7,\"ask_size\":0.00018852,\"bid_size\":0.12948654},{\"ask_price\":1.244E7,\"bid_price\":1.2399E7,\"ask_size\":1.304,\"bid_size\":0.01782703},{\"ask_price\":1.2441E7,\"bid_price\":1.2398E7,\"ask_size\":0.043,\"bid_size\":0.29711316},{\"ask_price\":1.2442E7,\"bid_price\":1.2396E7,\"ask_size\":0.004,\"bid_size\":1.04966903},{\"ask_price\":1.2443E7,\"bid_price\":1.2395E7,\"ask_size\":0.00018846,\"bid_size\":2.59891355},{\"ask_price\":1.2444E7,\"bid_price\":1.2394E7,\"ask_size\":0.01278908,\"bid_size\":0.00161368}]}]\n"
     ]
    }
   ],
   "source": [
    "url = \"https://api.upbit.com/v1/orderbook\"\n",
    "\n",
    "querystring = {\"markets\":\"KRW-BTC\"}\n",
    "\n",
    "response = requests.request(\"GET\", url, params=querystring)\n",
    "\n",
    "print(response.text)"
   ]
  },
  {
   "cell_type": "code",
   "execution_count": 3,
   "metadata": {},
   "outputs": [
    {
     "name": "stdout",
     "output_type": "stream",
     "text": [
      "[{\"market\":\"KRW-BTC\",\"timestamp\":1566820436511,\"total_ask_size\":3.91144504,\"total_bid_size\":10.89354717,\"orderbook_units\":[{\"ask_price\":1.2426E7,\"bid_price\":1.2421E7,\"ask_size\":0.23503756,\"bid_size\":0.38931893},{\"ask_price\":1.2428E7,\"bid_price\":1.242E7,\"ask_size\":0.12310383,\"bid_size\":2.81291444},{\"ask_price\":1.2429E7,\"bid_price\":1.2409E7,\"ask_size\":0.92390174,\"bid_size\":0.44416956},{\"ask_price\":1.243E7,\"bid_price\":1.2408E7,\"ask_size\":0.94668013,\"bid_size\":0.4},{\"ask_price\":1.2431E7,\"bid_price\":1.2405E7,\"ask_size\":0.06736309,\"bid_size\":0.08075261},{\"ask_price\":1.2432E7,\"bid_price\":1.2404E7,\"ask_size\":0.00818863,\"bid_size\":0.01542308},{\"ask_price\":1.2433E7,\"bid_price\":1.2403E7,\"ask_size\":0.24389475,\"bid_size\":0.00244984},{\"ask_price\":1.2434E7,\"bid_price\":1.2401E7,\"ask_size\":0.0001886,\"bid_size\":0.30889572},{\"ask_price\":1.2435E7,\"bid_price\":1.24E7,\"ask_size\":0.01152117,\"bid_size\":1.97648654},{\"ask_price\":1.2437E7,\"bid_price\":1.2399E7,\"ask_size\":0.00018856,\"bid_size\":0.01782703},{\"ask_price\":1.2439E7,\"bid_price\":1.2398E7,\"ask_size\":0.00018852,\"bid_size\":1.60111316},{\"ask_price\":1.244E7,\"bid_price\":1.2397E7,\"ask_size\":1.304,\"bid_size\":0.347},{\"ask_price\":1.2441E7,\"bid_price\":1.2396E7,\"ask_size\":0.043,\"bid_size\":1.04966903},{\"ask_price\":1.2442E7,\"bid_price\":1.2395E7,\"ask_size\":0.004,\"bid_size\":1.09891355},{\"ask_price\":1.2443E7,\"bid_price\":1.2394E7,\"ask_size\":0.00018846,\"bid_size\":0.34861368}]}]\n"
     ]
    }
   ],
   "source": [
    "url = \"https://api.upbit.com/v1/orderbook\"\n",
    "\n",
    "querystring = {\"markets\":\"KRW-BTC\"}\n",
    "\n",
    "response = requests.request(\"GET\", url, params=querystring)\n",
    "\n",
    "print(response.text)"
   ]
  },
  {
   "cell_type": "code",
   "execution_count": 4,
   "metadata": {},
   "outputs": [
    {
     "name": "stdout",
     "output_type": "stream",
     "text": [
      "[{\"market\":\"KRW-BTC\",\"timestamp\":1566820441342,\"total_ask_size\":3.91333954,\"total_bid_size\":8.63322121,\"orderbook_units\":[{\"ask_price\":1.2426E7,\"bid_price\":1.2421E7,\"ask_size\":0.23693206,\"bid_size\":0.36961276},{\"ask_price\":1.2428E7,\"bid_price\":1.242E7,\"ask_size\":0.12310383,\"bid_size\":2.81291444},{\"ask_price\":1.2429E7,\"bid_price\":1.2409E7,\"ask_size\":0.92390174,\"bid_size\":0.44416956},{\"ask_price\":1.243E7,\"bid_price\":1.2405E7,\"ask_size\":0.94668013,\"bid_size\":0.08075261},{\"ask_price\":1.2431E7,\"bid_price\":1.2404E7,\"ask_size\":0.06736309,\"bid_size\":0.01542308},{\"ask_price\":1.2432E7,\"bid_price\":1.2403E7,\"ask_size\":0.00818863,\"bid_size\":0.00244984},{\"ask_price\":1.2433E7,\"bid_price\":1.2401E7,\"ask_size\":0.24389475,\"bid_size\":0.30889572},{\"ask_price\":1.2434E7,\"bid_price\":1.24E7,\"ask_size\":0.0001886,\"bid_size\":0.47648654},{\"ask_price\":1.2435E7,\"bid_price\":1.2399E7,\"ask_size\":0.01152117,\"bid_size\":0.01782703},{\"ask_price\":1.2437E7,\"bid_price\":1.2398E7,\"ask_size\":0.00018856,\"bid_size\":1.60111316},{\"ask_price\":1.2439E7,\"bid_price\":1.2396E7,\"ask_size\":0.00018852,\"bid_size\":1.04966903},{\"ask_price\":1.244E7,\"bid_price\":1.2395E7,\"ask_size\":1.304,\"bid_size\":1.09891355},{\"ask_price\":1.2441E7,\"bid_price\":1.2394E7,\"ask_size\":0.043,\"bid_size\":0.34861368},{\"ask_price\":1.2442E7,\"bid_price\":1.2393E7,\"ask_size\":0.004,\"bid_size\":0.00476627},{\"ask_price\":1.2443E7,\"bid_price\":1.2392E7,\"ask_size\":0.00018846,\"bid_size\":0.00161394}]}]\n"
     ]
    }
   ],
   "source": [
    "url = \"https://api.upbit.com/v1/orderbook\"\n",
    "\n",
    "querystring = {\"markets\":\"KRW-BTC\"}\n",
    "\n",
    "response = requests.request(\"GET\", url, params=querystring)\n",
    "\n",
    "print(response.text)"
   ]
  },
  {
   "cell_type": "code",
   "execution_count": null,
   "metadata": {},
   "outputs": [],
   "source": []
  }
 ],
 "metadata": {
  "kernelspec": {
   "display_name": "Python 3",
   "language": "python",
   "name": "python3"
  },
  "language_info": {
   "codemirror_mode": {
    "name": "ipython",
    "version": 3
   },
   "file_extension": ".py",
   "mimetype": "text/x-python",
   "name": "python",
   "nbconvert_exporter": "python",
   "pygments_lexer": "ipython3",
   "version": "3.7.1"
  }
 },
 "nbformat": 4,
 "nbformat_minor": 2
}
